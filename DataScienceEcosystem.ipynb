{
 "cells": [
  {
   "cell_type": "markdown",
   "id": "ac8214e3-007d-4105-ae1f-1a8a6613e55f",
   "metadata": {},
   "source": [
    "<center>\n",
    "    <img src=\"https://cf-courses-data.s3.us.cloud-object-storage.appdomain.cloud/IBMDeveloperSkillsNetwork-DS0105EN-SkillsNetwork/labs/Module2/images/SN_web_lightmode.png\" width=\"300\" alt=\"cognitiveclass.ai logo\">\n",
    "</center>\n"
   ]
  },
  {
   "cell_type": "markdown",
   "id": "db6aace1-cd44-4126-bdcc-20ff76e2892f",
   "metadata": {},
   "source": [
    "### This is my notebook for the final assignment of Week 6 Module: Tools for Data Science."
   ]
  },
  {
   "cell_type": "markdown",
   "id": "d8dfa558-14da-4130-a82e-f3dabbbc2672",
   "metadata": {
    "tags": []
   },
   "source": [
    "# Exercise 1: Create a Jupyter Notebook"
   ]
  },
  {
   "cell_type": "markdown",
   "id": "1f446708-401b-4cb3-b863-d19f624109b2",
   "metadata": {
    "tags": []
   },
   "source": [
    "__I've created a new notebook called: DataScienceEcosystem.ipynb__"
   ]
  },
  {
   "cell_type": "markdown",
   "id": "91de4e6e-dcf2-4c2d-a595-cbe5c213d233",
   "metadata": {},
   "source": [
    "# Exercise 2: Create markdown cell with title of the notebook"
   ]
  },
  {
   "cell_type": "markdown",
   "id": "e8ada02c-6d88-403f-8fe7-c8258dd88331",
   "metadata": {
    "tags": []
   },
   "source": [
    "Instructions:\n",
    "- Create a markdown cell with the title Data Science Tools and Ecosystem using H1 style heading.\n",
    "- Take a screenshot of the markdown cell and name it as 2-title.png"
   ]
  },
  {
   "cell_type": "markdown",
   "id": "2567aaba-d0ab-4252-8398-c83c3db643f2",
   "metadata": {},
   "source": [
    "# Data Science Tools and Ecosystem"
   ]
  },
  {
   "cell_type": "markdown",
   "id": "1bc2a630-04a5-41d4-aed6-82484955d18b",
   "metadata": {},
   "source": [
    "# Exercise 3 - Create a markdown cell for an introduction"
   ]
  },
  {
   "cell_type": "markdown",
   "id": "617c1775-f6ec-41f7-bb33-1f58365860ff",
   "metadata": {
    "tags": []
   },
   "source": [
    "Instructions:\n",
    "- Write an introductory sentence about the notebook such as the follows:\n",
    "In this notebook, Data Science Tools and Ecosystem are summarized.\n",
    "- Take a screenshot of the markdown cell and name it as 3-intro.png"
   ]
  },
  {
   "cell_type": "markdown",
   "id": "82cd9fc6-d2e2-4240-a2f0-46111225ce77",
   "metadata": {
    "tags": []
   },
   "source": [
    "__In this notebook, Data Science Tools and Ecosystem are summarized.__"
   ]
  },
  {
   "cell_type": "markdown",
   "id": "9ba2a36a-02b9-4c23-889c-1381a8902633",
   "metadata": {},
   "source": [
    "__Objectives:__\n",
    "\n",
    "- List popular languages that Data Scientists use.\n",
    "- List commonly used libraries used by Data Scientists.\n",
    "- Run arithmetic operations.\n",
    "- Comment on Data Science tools."
   ]
  },
  {
   "cell_type": "markdown",
   "id": "c6a4d287-a4ca-42bc-8a58-2853d34dd5de",
   "metadata": {},
   "source": [
    "# Exercise 4 - Create a markdown cell to list data science languages"
   ]
  },
  {
   "cell_type": "markdown",
   "id": "95f7eeff-0677-42b3-9bf3-0cf37224a747",
   "metadata": {
    "tags": []
   },
   "source": [
    "Instructions:\n",
    "- Start the cell with an overview line such as:\n",
    "Some of the popular languages that Data Scientists use are:\n",
    "- Then create an ordered list (i.e. numbered) listing 3 (or more) commonly used languages for data science.\n",
    "- Take a screenshot of the markdown cell and name it as 4-dslanguages.png"
   ]
  },
  {
   "cell_type": "markdown",
   "id": "23ea42bb-cbe0-41cc-a53a-8922a4e4e6b1",
   "metadata": {},
   "source": [
    "__Some of the popular languages that Data Scientists use are:__\n",
    "1. Python\n",
    "2. R\n",
    "3. SQL\n",
    "4. Java\n",
    "5. Scala"
   ]
  },
  {
   "cell_type": "markdown",
   "id": "5e44b9d1-aabb-4c9a-86e4-a04577b25eac",
   "metadata": {
    "tags": []
   },
   "source": [
    "# Exercise 5 - Create a markdown cell to list data science libraries"
   ]
  },
  {
   "cell_type": "markdown",
   "id": "8467addf-ff10-47c6-b370-03c93cebf108",
   "metadata": {},
   "source": [
    "Instructions:\n",
    "- Add an overview line to the cell like:\n",
    "Some of the commonly used libraries used by Data Scientists include:\n",
    "- Below this line add an ordered list listing 3 (or more) commonly used libraries in data science.\n",
    "- Take a screenshot of the markdown cell and name it as 5-dslibraries.png"
   ]
  },
  {
   "cell_type": "markdown",
   "id": "d5181fa3-1666-497b-bf79-e4e250c27c20",
   "metadata": {},
   "source": [
    "__Some of the commonly used libraries used by Data Scientists include:__\n",
    "1. TensorFlow\n",
    "2. NumPy\n",
    "3. SciPy\n",
    "4. Pandas\n",
    "5. Matplotlib\n",
    "6. SciKit-Learn"
   ]
  },
  {
   "cell_type": "markdown",
   "id": "4214b5ed-0a06-4c4f-bf42-4f72aba229ab",
   "metadata": {
    "tags": []
   },
   "source": [
    "# Exercise 6 - Create a markdown cell with a table of Data Science tools"
   ]
  },
  {
   "cell_type": "markdown",
   "id": "2a70bec4-459c-4d90-a354-8b34c2e81d57",
   "metadata": {},
   "source": [
    "Instructions:\n",
    "- Create a single column table in this cell with the first row containing the header Data Science Tools. The subsequent three rows in the table should indicate three development environment open source tools used in data science.\n",
    "- Take a screenshot of the markdown cell and name it as 6-dstools.png\n",
    "Hint: Refer to Lab: Using Markdowns in Jupyter Notebooks to create a table."
   ]
  },
  {
   "cell_type": "markdown",
   "id": "c55a8245-428b-476b-bf8b-19a99beb1965",
   "metadata": {
    "tags": []
   },
   "source": [
    "Data Science Tools:\n",
    "\n",
    "| Data Science Tools |\n",
    "| -------------|\n",
    "| Jupyter |\n",
    "| RStudio |\n",
    "| Apache Zeppelin |"
   ]
  },
  {
   "cell_type": "markdown",
   "id": "c72153e8-1e4b-4d21-95bf-843b6270092e",
   "metadata": {
    "tags": []
   },
   "source": [
    "# Exercise 7 - Create a markdown cell introducing arithmetic expression examples"
   ]
  },
  {
   "cell_type": "markdown",
   "id": "b6759ab4-83ca-49ae-92a5-398583611ef3",
   "metadata": {},
   "source": [
    "Instructions:\n",
    "- Add a line in this cell with H3 style heading with text like:\n",
    "Below are a few examples of evaluating arithmetic expressions in Python.\n",
    "- Take a screenshot of the markdown cell and name it as 7-introarithmetic.png"
   ]
  },
  {
   "cell_type": "markdown",
   "id": "ebdc4b9f-0671-44b3-813f-d0ac94a4e855",
   "metadata": {
    "jp-MarkdownHeadingCollapsed": true,
    "tags": []
   },
   "source": [
    "### Below are a few examples of evaluating arithmetic expressions in Python."
   ]
  },
  {
   "cell_type": "markdown",
   "id": "c450edf1-30a3-4de1-8b9a-ac62ddb44595",
   "metadata": {
    "tags": []
   },
   "source": [
    "# Exercise 8 - Create a code cell to multiply and add numbers"
   ]
  },
  {
   "cell_type": "markdown",
   "id": "5eb5452a-9741-426c-b0cf-3e13dedc665e",
   "metadata": {},
   "source": [
    "Instructions:\n",
    "- In this code cell evaluate the expression (3*4)+5.\n",
    "- Insert a comment line before the expression to explain the operation e.g.  This a simple arithmetic expression to mutiply then add integers.\n",
    "- Then execute the cell to ensure the expression returns the expected output of 17.\n",
    "- Take a screenshot of the code cell with output and name it as 8-multiplyandaddintegers.png"
   ]
  },
  {
   "cell_type": "markdown",
   "id": "16ff59a1-f97e-411a-a5b7-4787ef54a644",
   "metadata": {},
   "source": [
    "This a simple arithmetic expression to mutiply then add integers"
   ]
  },
  {
   "cell_type": "code",
   "execution_count": 7,
   "id": "79dec8df-b440-41c4-aed6-b017afb6123e",
   "metadata": {
    "tags": []
   },
   "outputs": [
    {
     "data": {
      "text/plain": [
       "17"
      ]
     },
     "execution_count": 7,
     "metadata": {},
     "output_type": "execute_result"
    }
   ],
   "source": [
    "(3*4)+5\n",
    "# Expected result : 17"
   ]
  },
  {
   "cell_type": "markdown",
   "id": "8da529dd-2e1f-45e7-b492-e1f65792e67d",
   "metadata": {
    "tags": []
   },
   "source": [
    "# Exercise 9 - Create a code cell to convert minutes to hours"
   ]
  },
  {
   "cell_type": "markdown",
   "id": "2d37649d-7c57-4bd1-95a9-0798b581cc40",
   "metadata": {},
   "source": [
    "Instructions:\n",
    "- In this code cell write an expression that converts 200 minutes into hours.\n",
    "- Insert a comment line before the expression to explain the operation e.g.  This will convert 200 minutes to hours by diving by 60.\n",
    "- Run the cell to evaluate the expression.\n",
    "- Take a screenshot of the code cell with output and name it as 9-hourstominutes.png"
   ]
  },
  {
   "cell_type": "markdown",
   "id": "0528d31f-18f6-4a41-9806-a308a4d70829",
   "metadata": {},
   "source": [
    "This will convert 200 minutes to hours by diving by 60"
   ]
  },
  {
   "cell_type": "code",
   "execution_count": 6,
   "id": "3a1ac514-74d0-4d69-a53d-0277bc8dc119",
   "metadata": {
    "tags": []
   },
   "outputs": [
    {
     "name": "stdout",
     "output_type": "stream",
     "text": [
      "After convesrion 200 minutes to hours, we get:\n",
      "3.3333333333333335 hours\n"
     ]
    }
   ],
   "source": [
    "# Initaite variable hours\n",
    "hours = 0\n",
    "# set the time to 200\n",
    "time = 200\n",
    "# Do the calculations\n",
    "hours = time / 60\n",
    "\n",
    "print('After convesrion 200 minutes to hours, we get:')\n",
    "print(hours,'hours')\n",
    "# Result: 3.3333333333333335 hours"
   ]
  },
  {
   "cell_type": "markdown",
   "id": "679a74fa-b9e6-4299-8b75-e280469efa88",
   "metadata": {
    "tags": []
   },
   "source": [
    "# Exercise 10 - Insert a markdown cell to list Objectives"
   ]
  },
  {
   "cell_type": "markdown",
   "id": "3dc808cf-446f-438f-9a00-934f4aaf9e46",
   "metadata": {},
   "source": [
    "Instructions:\n",
    "- Below the introduction cell created in Exercise 3, insert a new markdown cell to list the objectives that this notebook covered (i.e. some of the key takeaways from the course). In this new cell start with an introductory line titled: Objectives: in bold font. Then using an unordered list (bullets) indicate 3 to 5 items covered in this notebook, such as List popular languages for Data Science.\n",
    "- Take a screenshot of the markdown cell and name it as 10-objectives.png"
   ]
  },
  {
   "cell_type": "markdown",
   "id": "5a66cc4c-c5df-42fe-93e3-a6151d2c1011",
   "metadata": {},
   "source": [
    "--> See the line below exercice 3."
   ]
  },
  {
   "cell_type": "markdown",
   "id": "34b17e66-39fd-454f-8779-27928495daeb",
   "metadata": {
    "tags": []
   },
   "source": [
    "# Exercise 11 - Create a markdown cell to indicate the Author's name"
   ]
  },
  {
   "cell_type": "markdown",
   "id": "8bb69039-7209-4878-9571-9c03fabd03a4",
   "metadata": {},
   "source": [
    "Instructions:\n",
    "- In this markdown cell markdown cell include the following text Author in H2 style heading. Include your name as regular text below the word Author.\n",
    "- Take a screenshot of the markdown cell and name it as 11-authordetails.png (Images can be saved with either the .jpg or .png extension.)\n",
    "\n",
    ">Note: Save and download the notebook."
   ]
  },
  {
   "cell_type": "markdown",
   "id": "dcadfbde-4a68-4178-bb79-e89c9bda378f",
   "metadata": {},
   "source": [
    "## Author:\n",
    "Balkiss BARAGH"
   ]
  },
  {
   "cell_type": "markdown",
   "id": "1950b334-7432-4e37-98a2-0a862c3ecafb",
   "metadata": {
    "tags": []
   },
   "source": [
    "# Exercise 12 - Share your notebook through GitHub"
   ]
  },
  {
   "cell_type": "markdown",
   "id": "7777b6d6-b909-46ee-8448-fac0d28f8256",
   "metadata": {},
   "source": [
    "Instructions:\n",
    "- Upload your notebook to a public respository on GitHub.\n",
    "\n",
    ">Note : Please keep the GitHub repo link of the notebook handy.\n",
    "You will need to submit this link as a part of the assignment evaluation.\n",
    "\n",
    "Hint: Refer to Lab: Working with files in Jupyter Notebooks to download the notebook from SN Labs."
   ]
  },
  {
   "cell_type": "markdown",
   "id": "4655b512-cd8d-4e50-9544-0822cce370e2",
   "metadata": {
    "tags": []
   },
   "source": [
    "# Exercise 13 -Take a screenshot of the first page of the notebook and save it as 1-notebook.png"
   ]
  },
  {
   "cell_type": "markdown",
   "id": "17ed4cfd-597f-4e1f-9fab-370d265596bf",
   "metadata": {},
   "source": [
    "Refer to Hands-on Lab: Getting Started with GitHub to upload the downloaded notebook to GitHub."
   ]
  }
 ],
 "metadata": {
  "kernelspec": {
   "display_name": "Python",
   "language": "python",
   "name": "conda-env-python-py"
  },
  "language_info": {
   "codemirror_mode": {
    "name": "ipython",
    "version": 3
   },
   "file_extension": ".py",
   "mimetype": "text/x-python",
   "name": "python",
   "nbconvert_exporter": "python",
   "pygments_lexer": "ipython3",
   "version": "3.7.12"
  }
 },
 "nbformat": 4,
 "nbformat_minor": 5
}
